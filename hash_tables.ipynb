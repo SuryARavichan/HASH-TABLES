{
  "nbformat": 4,
  "nbformat_minor": 0,
  "metadata": {
    "colab": {
      "name": "hash tables.ipynb",
      "provenance": [],
      "authorship_tag": "ABX9TyNBFZiamg7qS6yRHlT+n7W4",
      "include_colab_link": true
    },
    "kernelspec": {
      "name": "python3",
      "display_name": "Python 3"
    },
    "language_info": {
      "name": "python"
    }
  },
  "cells": [
    {
      "cell_type": "markdown",
      "metadata": {
        "id": "view-in-github",
        "colab_type": "text"
      },
      "source": [
        "<a href=\"https://colab.research.google.com/github/SuryARavichan/HASH-TABLES/blob/main/hash_tables.ipynb\" target=\"_parent\"><img src=\"https://colab.research.google.com/assets/colab-badge.svg\" alt=\"Open In Colab\"/></a>"
      ]
    },
    {
      "cell_type": "code",
      "metadata": {
        "id": "z1-kMiklx1aT"
      },
      "source": [
        "a = {'k1':100, 'k2':200}"
      ],
      "execution_count": 7,
      "outputs": []
    },
    {
      "cell_type": "code",
      "metadata": {
        "colab": {
          "base_uri": "https://localhost:8080/"
        },
        "id": "chhpigoIx-Nf",
        "outputId": "acb708fa-8b52-4f48-f9ad-d774957851ef"
      },
      "source": [
        "type(a)"
      ],
      "execution_count": 8,
      "outputs": [
        {
          "output_type": "execute_result",
          "data": {
            "text/plain": [
              "dict"
            ]
          },
          "metadata": {},
          "execution_count": 8
        }
      ]
    },
    {
      "cell_type": "code",
      "metadata": {
        "colab": {
          "base_uri": "https://localhost:8080/"
        },
        "id": "lx8qRqmNyARZ",
        "outputId": "67b3f5bd-50c3-496f-d7df-22ab51ca0f34"
      },
      "source": [
        "a"
      ],
      "execution_count": 9,
      "outputs": [
        {
          "output_type": "execute_result",
          "data": {
            "text/plain": [
              "{'k1': 100, 'k2': 200}"
            ]
          },
          "metadata": {},
          "execution_count": 9
        }
      ]
    },
    {
      "cell_type": "code",
      "metadata": {
        "colab": {
          "base_uri": "https://localhost:8080/"
        },
        "id": "H_0jfZG7y8YD",
        "outputId": "3760eb0f-2c3d-4c1b-86bc-7ef66927c55e"
      },
      "source": [
        "print(a)"
      ],
      "execution_count": 10,
      "outputs": [
        {
          "output_type": "stream",
          "name": "stdout",
          "text": [
            "{'k1': 100, 'k2': 200}\n"
          ]
        }
      ]
    },
    {
      "cell_type": "code",
      "metadata": {
        "colab": {
          "base_uri": "https://localhost:8080/"
        },
        "id": "gFeAbDn2y9vh",
        "outputId": "a1aa5d5f-d447-4059-b9f4-d9966db34a89"
      },
      "source": [
        "hash((2,4,6,128,698,1202))"
      ],
      "execution_count": 12,
      "outputs": [
        {
          "output_type": "execute_result",
          "data": {
            "text/plain": [
              "1955977986409467475"
            ]
          },
          "metadata": {},
          "execution_count": 12
        }
      ]
    },
    {
      "cell_type": "code",
      "metadata": {
        "id": "Jn61IxVvzNFB"
      },
      "source": [
        "d = {(1,2,3): 'this is a tuple'}"
      ],
      "execution_count": 13,
      "outputs": []
    },
    {
      "cell_type": "code",
      "metadata": {
        "colab": {
          "base_uri": "https://localhost:8080/"
        },
        "id": "RSPYTh08zVZc",
        "outputId": "46db388f-1263-4422-ca13-7319e12af9ea"
      },
      "source": [
        "d"
      ],
      "execution_count": 14,
      "outputs": [
        {
          "output_type": "execute_result",
          "data": {
            "text/plain": [
              "{(1, 2, 3): 'this is a tuple'}"
            ]
          },
          "metadata": {},
          "execution_count": 14
        }
      ]
    },
    {
      "cell_type": "code",
      "metadata": {
        "id": "ZKHTxQMDzV_S"
      },
      "source": [
        "t1 = (1,2,3)"
      ],
      "execution_count": 18,
      "outputs": []
    },
    {
      "cell_type": "code",
      "metadata": {
        "id": "3PEazDYszaVn"
      },
      "source": [
        "t2 = (1,2,3)"
      ],
      "execution_count": 19,
      "outputs": []
    },
    {
      "cell_type": "code",
      "metadata": {
        "colab": {
          "base_uri": "https://localhost:8080/"
        },
        "id": "W7dPBsaJzb75",
        "outputId": "e61a5681-4adb-4398-89c2-ab1e9f0fe064"
      },
      "source": [
        "hash(t1) == hash(t2)"
      ],
      "execution_count": 20,
      "outputs": [
        {
          "output_type": "execute_result",
          "data": {
            "text/plain": [
              "True"
            ]
          },
          "metadata": {},
          "execution_count": 20
        }
      ]
    },
    {
      "cell_type": "code",
      "metadata": {
        "colab": {
          "base_uri": "https://localhost:8080/"
        },
        "id": "cBDofh4UzfRx",
        "outputId": "bce66dcf-7cd4-4a59-a1be-faa1304c3e88"
      },
      "source": [
        "t1 == t2"
      ],
      "execution_count": 21,
      "outputs": [
        {
          "output_type": "execute_result",
          "data": {
            "text/plain": [
              "True"
            ]
          },
          "metadata": {},
          "execution_count": 21
        }
      ]
    },
    {
      "cell_type": "code",
      "metadata": {
        "colab": {
          "base_uri": "https://localhost:8080/"
        },
        "id": "vfup9W7kzrID",
        "outputId": "f72980ad-892c-4975-fda1-290b68209190"
      },
      "source": [
        "t1 != t2"
      ],
      "execution_count": 22,
      "outputs": [
        {
          "output_type": "execute_result",
          "data": {
            "text/plain": [
              "False"
            ]
          },
          "metadata": {},
          "execution_count": 22
        }
      ]
    },
    {
      "cell_type": "code",
      "metadata": {
        "colab": {
          "base_uri": "https://localhost:8080/"
        },
        "id": "eWeC3ayBzs4a",
        "outputId": "6f8ad68d-adf7-44a2-ab69-8b135c03710f"
      },
      "source": [
        "t1 is t2"
      ],
      "execution_count": 23,
      "outputs": [
        {
          "output_type": "execute_result",
          "data": {
            "text/plain": [
              "False"
            ]
          },
          "metadata": {},
          "execution_count": 23
        }
      ]
    },
    {
      "cell_type": "code",
      "metadata": {
        "colab": {
          "base_uri": "https://localhost:8080/"
        },
        "id": "37MRWmnPz0Gi",
        "outputId": "a3216457-a5e4-4bb4-bffe-1211746ab652"
      },
      "source": [
        "id(t1) == id(t2)"
      ],
      "execution_count": 24,
      "outputs": [
        {
          "output_type": "execute_result",
          "data": {
            "text/plain": [
              "False"
            ]
          },
          "metadata": {},
          "execution_count": 24
        }
      ]
    },
    {
      "cell_type": "code",
      "metadata": {
        "colab": {
          "base_uri": "https://localhost:8080/",
          "height": 35
        },
        "id": "1kgGHV_Ez3hx",
        "outputId": "d3da2242-5bd0-4fd7-e11a-eb23f77259ac"
      },
      "source": [
        "d[t1]"
      ],
      "execution_count": 25,
      "outputs": [
        {
          "output_type": "execute_result",
          "data": {
            "application/vnd.google.colaboratory.intrinsic+json": {
              "type": "string"
            },
            "text/plain": [
              "'this is a tuple'"
            ]
          },
          "metadata": {},
          "execution_count": 25
        }
      ]
    },
    {
      "cell_type": "code",
      "metadata": {
        "colab": {
          "base_uri": "https://localhost:8080/",
          "height": 35
        },
        "id": "52W91hObz56f",
        "outputId": "1338dfb1-1e29-423f-c42d-318ed753a090"
      },
      "source": [
        "d[t2]"
      ],
      "execution_count": 26,
      "outputs": [
        {
          "output_type": "execute_result",
          "data": {
            "application/vnd.google.colaboratory.intrinsic+json": {
              "type": "string"
            },
            "text/plain": [
              "'this is a tuple'"
            ]
          },
          "metadata": {},
          "execution_count": 26
        }
      ]
    },
    {
      "cell_type": "code",
      "metadata": {
        "colab": {
          "base_uri": "https://localhost:8080/"
        },
        "id": "MUqywW9dz6yk",
        "outputId": "03eeb9d0-975f-482b-cc52-a4d442549bad"
      },
      "source": [
        "id(t1) == id(t2)"
      ],
      "execution_count": 27,
      "outputs": [
        {
          "output_type": "execute_result",
          "data": {
            "text/plain": [
              "False"
            ]
          },
          "metadata": {},
          "execution_count": 27
        }
      ]
    },
    {
      "cell_type": "code",
      "metadata": {
        "id": "Qst-lnCG0A3u"
      },
      "source": [
        "def my_fun(a,b,c):\n",
        "  print(a,b,c)\n"
      ],
      "execution_count": 29,
      "outputs": []
    },
    {
      "cell_type": "code",
      "metadata": {
        "colab": {
          "base_uri": "https://localhost:8080/"
        },
        "id": "rwLJ0jAl0FR6",
        "outputId": "93213b29-ff08-4b90-ce01-b08bb24fdf71"
      },
      "source": [
        "hash(my_fun)"
      ],
      "execution_count": 30,
      "outputs": [
        {
          "output_type": "execute_result",
          "data": {
            "text/plain": [
              "8778657552304"
            ]
          },
          "metadata": {},
          "execution_count": 30
        }
      ]
    },
    {
      "cell_type": "code",
      "metadata": {
        "id": "6JkcyRC70SSA"
      },
      "source": [
        "d = {my_fun: [20,30,40]}"
      ],
      "execution_count": 32,
      "outputs": []
    },
    {
      "cell_type": "code",
      "metadata": {
        "colab": {
          "base_uri": "https://localhost:8080/"
        },
        "id": "0rYqjCzW0ZRA",
        "outputId": "584ddc5d-fcd9-4e35-ab14-b559fefbcd1b"
      },
      "source": [
        "d\n"
      ],
      "execution_count": 34,
      "outputs": [
        {
          "output_type": "execute_result",
          "data": {
            "text/plain": [
              "{<function __main__.my_fun>: [20, 30, 40]}"
            ]
          },
          "metadata": {},
          "execution_count": 34
        }
      ]
    },
    {
      "cell_type": "code",
      "metadata": {
        "id": "0QrJ2weh0eE3"
      },
      "source": [
        "def add(a,b):\n",
        "  print(a+b)\n",
        "def sub(a,b):\n",
        "  print(a-b)\n",
        "def mul(a,b):\n",
        "  print(a*b)\n"
      ],
      "execution_count": 37,
      "outputs": []
    },
    {
      "cell_type": "code",
      "metadata": {
        "id": "0wHB1xg20qwH"
      },
      "source": [
        "funcs = {add: (45,56), sub: (23,78), mul: (15,0)}"
      ],
      "execution_count": 39,
      "outputs": []
    },
    {
      "cell_type": "code",
      "metadata": {
        "colab": {
          "base_uri": "https://localhost:8080/"
        },
        "id": "9N_h5Nx207rM",
        "outputId": "5cc574d4-bd1b-4062-9bf0-e80960d5867a"
      },
      "source": [
        "for f in funcs:\n",
        "  print(f)"
      ],
      "execution_count": 40,
      "outputs": [
        {
          "output_type": "stream",
          "name": "stdout",
          "text": [
            "<function add at 0x7fbf0c3a6f80>\n",
            "<function sub at 0x7fbf0c3a6320>\n",
            "<function mul at 0x7fbf0c3a6710>\n"
          ]
        }
      ]
    },
    {
      "cell_type": "code",
      "metadata": {
        "colab": {
          "base_uri": "https://localhost:8080/"
        },
        "id": "MpemQyJE1E_S",
        "outputId": "0c6cd542-bc14-4d25-b73a-397e5ab9bd27"
      },
      "source": [
        "for f in funcs:\n",
        "  result = f(*funcs[f])"
      ],
      "execution_count": 41,
      "outputs": [
        {
          "output_type": "stream",
          "name": "stdout",
          "text": [
            "101\n",
            "-55\n",
            "0\n"
          ]
        }
      ]
    },
    {
      "cell_type": "code",
      "metadata": {
        "colab": {
          "base_uri": "https://localhost:8080/"
        },
        "id": "qT0BIqph1M-W",
        "outputId": "14d7196a-6ae1-4d4a-f9f2-8c275458b56d"
      },
      "source": [
        "for f, args in funcs.items():\n",
        "  print(f,args)"
      ],
      "execution_count": 42,
      "outputs": [
        {
          "output_type": "stream",
          "name": "stdout",
          "text": [
            "<function add at 0x7fbf0c3a6f80> (45, 56)\n",
            "<function sub at 0x7fbf0c3a6320> (23, 78)\n",
            "<function mul at 0x7fbf0c3a6710> (15, 0)\n"
          ]
        }
      ]
    },
    {
      "cell_type": "code",
      "metadata": {
        "id": "wQIzgQRl1hBh"
      },
      "source": [
        "d = dict(x=100, a=200)"
      ],
      "execution_count": 45,
      "outputs": []
    },
    {
      "cell_type": "code",
      "metadata": {
        "colab": {
          "base_uri": "https://localhost:8080/"
        },
        "id": "O26naf7X1wUl",
        "outputId": "0500a33c-abd2-4cea-ae56-a390784415a7"
      },
      "source": [
        "d"
      ],
      "execution_count": 46,
      "outputs": [
        {
          "output_type": "execute_result",
          "data": {
            "text/plain": [
              "{'a': 200, 'x': 100}"
            ]
          },
          "metadata": {},
          "execution_count": 46
        }
      ]
    },
    {
      "cell_type": "code",
      "metadata": {
        "id": "YilgJS0S1xM-"
      },
      "source": [
        "d = {'a':100, 'b':200}"
      ],
      "execution_count": 51,
      "outputs": []
    },
    {
      "cell_type": "code",
      "metadata": {
        "id": "REGBdP5U1-xG"
      },
      "source": [
        "d1 = {'a':200, 'b':100}"
      ],
      "execution_count": 52,
      "outputs": []
    },
    {
      "cell_type": "code",
      "metadata": {
        "id": "af5_w3Wg2Z2u"
      },
      "source": [
        "d = d1"
      ],
      "execution_count": 53,
      "outputs": []
    },
    {
      "cell_type": "code",
      "metadata": {
        "colab": {
          "base_uri": "https://localhost:8080/"
        },
        "id": "wzhzHKq52a5M",
        "outputId": "1e330919-0dca-4a31-b7c7-dd497a401649"
      },
      "source": [
        "d"
      ],
      "execution_count": 54,
      "outputs": [
        {
          "output_type": "execute_result",
          "data": {
            "text/plain": [
              "{'a': 200, 'b': 100}"
            ]
          },
          "metadata": {},
          "execution_count": 54
        }
      ]
    },
    {
      "cell_type": "code",
      "metadata": {
        "colab": {
          "base_uri": "https://localhost:8080/"
        },
        "id": "g-gxrVgx2cIm",
        "outputId": "e9abf6e6-5e79-417e-e0d5-5f39985bc290"
      },
      "source": [
        "d1"
      ],
      "execution_count": 55,
      "outputs": [
        {
          "output_type": "execute_result",
          "data": {
            "text/plain": [
              "{'a': 200, 'b': 100}"
            ]
          },
          "metadata": {},
          "execution_count": 55
        }
      ]
    },
    {
      "cell_type": "code",
      "metadata": {
        "id": "pyrc62H72c6v"
      },
      "source": [
        "d1 = d"
      ],
      "execution_count": 56,
      "outputs": []
    },
    {
      "cell_type": "code",
      "metadata": {
        "colab": {
          "base_uri": "https://localhost:8080/"
        },
        "id": "1CzNHWT12fAr",
        "outputId": "69b90f2d-98c1-454c-918b-99ca128cfb7f"
      },
      "source": [
        "d1"
      ],
      "execution_count": 57,
      "outputs": [
        {
          "output_type": "execute_result",
          "data": {
            "text/plain": [
              "{'a': 200, 'b': 100}"
            ]
          },
          "metadata": {},
          "execution_count": 57
        }
      ]
    },
    {
      "cell_type": "code",
      "metadata": {
        "colab": {
          "base_uri": "https://localhost:8080/"
        },
        "id": "Mzu4T4Hc2f9Q",
        "outputId": "c4f1f317-f0c4-4420-8634-17c4fb2e6fde"
      },
      "source": [
        "d"
      ],
      "execution_count": 58,
      "outputs": [
        {
          "output_type": "execute_result",
          "data": {
            "text/plain": [
              "{'a': 200, 'b': 100}"
            ]
          },
          "metadata": {},
          "execution_count": 58
        }
      ]
    },
    {
      "cell_type": "code",
      "metadata": {
        "colab": {
          "base_uri": "https://localhost:8080/"
        },
        "id": "P5NuDsrS2goO",
        "outputId": "721e282e-6d14-4324-a8d1-247597ed4b53"
      },
      "source": [
        "d1 != d"
      ],
      "execution_count": 59,
      "outputs": [
        {
          "output_type": "execute_result",
          "data": {
            "text/plain": [
              "False"
            ]
          },
          "metadata": {},
          "execution_count": 59
        }
      ]
    },
    {
      "cell_type": "code",
      "metadata": {
        "colab": {
          "base_uri": "https://localhost:8080/"
        },
        "id": "7GXZeMgS2jyD",
        "outputId": "81479379-e75c-4d8d-b935-9c0e055f38d1"
      },
      "source": [
        "d is d1"
      ],
      "execution_count": 60,
      "outputs": [
        {
          "output_type": "execute_result",
          "data": {
            "text/plain": [
              "True"
            ]
          },
          "metadata": {},
          "execution_count": 60
        }
      ]
    },
    {
      "cell_type": "code",
      "metadata": {
        "id": "R4R23oUk2oYa"
      },
      "source": [
        "d1 = {'a':500, 'b':780}"
      ],
      "execution_count": 61,
      "outputs": []
    },
    {
      "cell_type": "code",
      "metadata": {
        "colab": {
          "base_uri": "https://localhost:8080/"
        },
        "id": "I7wfqKDs2tG6",
        "outputId": "3a8ea8f9-a3f0-40bc-83f8-c89864210f51"
      },
      "source": [
        "d1"
      ],
      "execution_count": 62,
      "outputs": [
        {
          "output_type": "execute_result",
          "data": {
            "text/plain": [
              "{'a': 500, 'b': 780}"
            ]
          },
          "metadata": {},
          "execution_count": 62
        }
      ]
    },
    {
      "cell_type": "code",
      "metadata": {
        "colab": {
          "base_uri": "https://localhost:8080/"
        },
        "id": "XYow9B1T2tz2",
        "outputId": "84171e9c-1a72-4a5d-e39b-30a96b384707"
      },
      "source": [
        "d == d1"
      ],
      "execution_count": 63,
      "outputs": [
        {
          "output_type": "execute_result",
          "data": {
            "text/plain": [
              "False"
            ]
          },
          "metadata": {},
          "execution_count": 63
        }
      ]
    },
    {
      "cell_type": "code",
      "metadata": {
        "colab": {
          "base_uri": "https://localhost:8080/"
        },
        "id": "XDPTzo222w60",
        "outputId": "befa7f0c-56e0-4f68-c9fc-fe906b614055"
      },
      "source": [
        "d1"
      ],
      "execution_count": 64,
      "outputs": [
        {
          "output_type": "execute_result",
          "data": {
            "text/plain": [
              "{'a': 500, 'b': 780}"
            ]
          },
          "metadata": {},
          "execution_count": 64
        }
      ]
    },
    {
      "cell_type": "code",
      "metadata": {
        "colab": {
          "base_uri": "https://localhost:8080/"
        },
        "id": "-Ln9paHS2x2B",
        "outputId": "d04f41a7-58d5-46e1-f893-b7bd65e7143e"
      },
      "source": [
        "d"
      ],
      "execution_count": 65,
      "outputs": [
        {
          "output_type": "execute_result",
          "data": {
            "text/plain": [
              "{'a': 200, 'b': 100}"
            ]
          },
          "metadata": {},
          "execution_count": 65
        }
      ]
    },
    {
      "cell_type": "code",
      "metadata": {
        "id": "KPnjhP012yfh"
      },
      "source": [
        "d1['b'] = 890"
      ],
      "execution_count": 66,
      "outputs": []
    },
    {
      "cell_type": "code",
      "metadata": {
        "colab": {
          "base_uri": "https://localhost:8080/"
        },
        "id": "rO_34vnE2_wc",
        "outputId": "3a2ce9a5-2652-4ef8-c746-c45817bb003e"
      },
      "source": [
        "d1"
      ],
      "execution_count": 67,
      "outputs": [
        {
          "output_type": "execute_result",
          "data": {
            "text/plain": [
              "{'a': 500, 'b': 890}"
            ]
          },
          "metadata": {},
          "execution_count": 67
        }
      ]
    },
    {
      "cell_type": "code",
      "metadata": {
        "id": "5eLRQDXQ3Awk"
      },
      "source": [
        "keys = {'a','b','c'}\n",
        "values = (1,2,3)\n"
      ],
      "execution_count": 68,
      "outputs": []
    },
    {
      "cell_type": "code",
      "metadata": {
        "id": "z64x_5u23QDC"
      },
      "source": [
        "d = {}\n",
        "for k,v in zip(keys,values):\n",
        "  d[k] = v"
      ],
      "execution_count": 69,
      "outputs": []
    },
    {
      "cell_type": "code",
      "metadata": {
        "colab": {
          "base_uri": "https://localhost:8080/"
        },
        "id": "cx4_Utlp3eZa",
        "outputId": "6633a3e6-28bd-4b4d-d6c0-c9e89651d521"
      },
      "source": [
        "d\n"
      ],
      "execution_count": 70,
      "outputs": [
        {
          "output_type": "execute_result",
          "data": {
            "text/plain": [
              "{'a': 2, 'b': 3, 'c': 1}"
            ]
          },
          "metadata": {},
          "execution_count": 70
        }
      ]
    },
    {
      "cell_type": "code",
      "metadata": {
        "colab": {
          "base_uri": "https://localhost:8080/"
        },
        "id": "WkKlLX-A3fP_",
        "outputId": "89487ab7-af67-4b04-f72a-e46b3b4658a5"
      },
      "source": [
        "x_coords = [-2,-9,-6,8,7,0]\n",
        "y_coords = [-15,0,-8,7,0,3]\n",
        "grid = [(x,y)\n",
        "       for x in x_coords\n",
        "       for y in y_coords]\n",
        "grid\n"
      ],
      "execution_count": 74,
      "outputs": [
        {
          "output_type": "execute_result",
          "data": {
            "text/plain": [
              "[(-2, -15),\n",
              " (-2, 0),\n",
              " (-2, -8),\n",
              " (-2, 7),\n",
              " (-2, 0),\n",
              " (-2, 3),\n",
              " (-9, -15),\n",
              " (-9, 0),\n",
              " (-9, -8),\n",
              " (-9, 7),\n",
              " (-9, 0),\n",
              " (-9, 3),\n",
              " (-6, -15),\n",
              " (-6, 0),\n",
              " (-6, -8),\n",
              " (-6, 7),\n",
              " (-6, 0),\n",
              " (-6, 3),\n",
              " (8, -15),\n",
              " (8, 0),\n",
              " (8, -8),\n",
              " (8, 7),\n",
              " (8, 0),\n",
              " (8, 3),\n",
              " (7, -15),\n",
              " (7, 0),\n",
              " (7, -8),\n",
              " (7, 7),\n",
              " (7, 0),\n",
              " (7, 3),\n",
              " (0, -15),\n",
              " (0, 0),\n",
              " (0, -8),\n",
              " (0, 7),\n",
              " (0, 0),\n",
              " (0, 3)]"
            ]
          },
          "metadata": {},
          "execution_count": 74
        }
      ]
    },
    {
      "cell_type": "code",
      "metadata": {
        "id": "5wcJTyLR3yeU"
      },
      "source": [
        "import math"
      ],
      "execution_count": 75,
      "outputs": []
    },
    {
      "cell_type": "code",
      "metadata": {
        "colab": {
          "base_uri": "https://localhost:8080/"
        },
        "id": "pWdUPgBX4lc1",
        "outputId": "3e2cb605-78ce-4be4-c05d-564cad3655c8"
      },
      "source": [
        "math.asin(1)"
      ],
      "execution_count": 78,
      "outputs": [
        {
          "output_type": "execute_result",
          "data": {
            "text/plain": [
              "1.5707963267948966"
            ]
          },
          "metadata": {},
          "execution_count": 78
        }
      ]
    },
    {
      "cell_type": "code",
      "metadata": {
        "colab": {
          "base_uri": "https://localhost:8080/"
        },
        "id": "q92b2M2S4nM_",
        "outputId": "104e5e12-2b68-4868-c0f8-5dee23c162a3"
      },
      "source": [
        "math.degrees(45)"
      ],
      "execution_count": 79,
      "outputs": [
        {
          "output_type": "execute_result",
          "data": {
            "text/plain": [
              "2578.3100780887044"
            ]
          },
          "metadata": {},
          "execution_count": 79
        }
      ]
    },
    {
      "cell_type": "code",
      "metadata": {
        "id": "xQr7JjKt4uBQ"
      },
      "source": [
        "counters = dict.fromkeys(['a','b','c','d'],120)"
      ],
      "execution_count": 80,
      "outputs": []
    },
    {
      "cell_type": "code",
      "metadata": {
        "colab": {
          "base_uri": "https://localhost:8080/"
        },
        "id": "A5AUhUBs5JZS",
        "outputId": "adb7d07e-ae14-495c-8b6e-5679a1148077"
      },
      "source": [
        "counters"
      ],
      "execution_count": 81,
      "outputs": [
        {
          "output_type": "execute_result",
          "data": {
            "text/plain": [
              "{'a': 120, 'b': 120, 'c': 120, 'd': 120}"
            ]
          },
          "metadata": {},
          "execution_count": 81
        }
      ]
    },
    {
      "cell_type": "code",
      "metadata": {
        "id": "1Utfqmy35LZl"
      },
      "source": [
        "counters = dict.fromkeys('abcd',180)"
      ],
      "execution_count": 84,
      "outputs": []
    },
    {
      "cell_type": "code",
      "metadata": {
        "colab": {
          "base_uri": "https://localhost:8080/"
        },
        "id": "riUi4HHf5SZG",
        "outputId": "9f4d606a-0994-4c68-be5f-729e9d274b6f"
      },
      "source": [
        "counters"
      ],
      "execution_count": 85,
      "outputs": [
        {
          "output_type": "execute_result",
          "data": {
            "text/plain": [
              "{'a': 180, 'b': 180, 'c': 180, 'd': 180}"
            ]
          },
          "metadata": {},
          "execution_count": 85
        }
      ]
    },
    {
      "cell_type": "code",
      "metadata": {
        "colab": {
          "base_uri": "https://localhost:8080/"
        },
        "id": "uUjKRog95bhL",
        "outputId": "77f961ff-3d5e-4690-9842-7cf18c9f9db6"
      },
      "source": [
        "for k in d:\n",
        "  print(d)\n",
        "\n",
        "  "
      ],
      "execution_count": 86,
      "outputs": [
        {
          "output_type": "stream",
          "name": "stdout",
          "text": [
            "{'c': 1, 'a': 2, 'b': 3}\n",
            "{'c': 1, 'a': 2, 'b': 3}\n",
            "{'c': 1, 'a': 2, 'b': 3}\n"
          ]
        }
      ]
    },
    {
      "cell_type": "code",
      "metadata": {
        "id": "FQ_ne-m45l81"
      },
      "source": [
        ""
      ],
      "execution_count": null,
      "outputs": []
    }
  ]
}