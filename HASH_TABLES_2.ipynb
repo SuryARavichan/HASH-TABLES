{
  "nbformat": 4,
  "nbformat_minor": 0,
  "metadata": {
    "colab": {
      "name": "HASH TABLES 2.ipynb",
      "provenance": [],
      "authorship_tag": "ABX9TyOCnyQ6jSP32s3RsmZa/jZE",
      "include_colab_link": true
    },
    "kernelspec": {
      "name": "python3",
      "display_name": "Python 3"
    },
    "language_info": {
      "name": "python"
    }
  },
  "cells": [
    {
      "cell_type": "markdown",
      "metadata": {
        "id": "view-in-github",
        "colab_type": "text"
      },
      "source": [
        "<a href=\"https://colab.research.google.com/github/SuryARavichan/HASH-TABLES/blob/main/HASH_TABLES_2.ipynb\" target=\"_parent\"><img src=\"https://colab.research.google.com/assets/colab-badge.svg\" alt=\"Open In Colab\"/></a>"
      ]
    },
    {
      "cell_type": "code",
      "metadata": {
        "id": "YAwwzvRx6IAd"
      },
      "source": [
        "d = dict(zip('abc', range(1,4)))\n"
      ],
      "execution_count": 4,
      "outputs": []
    },
    {
      "cell_type": "code",
      "metadata": {
        "colab": {
          "base_uri": "https://localhost:8080/"
        },
        "id": "g0um7ziZ6QE6",
        "outputId": "e2655695-cb88-4609-b057-d52b66014ebd"
      },
      "source": [
        "d"
      ],
      "execution_count": 5,
      "outputs": [
        {
          "output_type": "execute_result",
          "data": {
            "text/plain": [
              "{'a': 1, 'b': 2, 'c': 3}"
            ]
          },
          "metadata": {},
          "execution_count": 5
        }
      ]
    },
    {
      "cell_type": "code",
      "metadata": {
        "colab": {
          "base_uri": "https://localhost:8080/"
        },
        "id": "UzbiFtzo6g3F",
        "outputId": "f3f4410e-8012-4cf3-c365-2ec0a18b0ab8"
      },
      "source": [
        "len(d)"
      ],
      "execution_count": 6,
      "outputs": [
        {
          "output_type": "execute_result",
          "data": {
            "text/plain": [
              "3"
            ]
          },
          "metadata": {},
          "execution_count": 6
        }
      ]
    },
    {
      "cell_type": "code",
      "metadata": {
        "colab": {
          "base_uri": "https://localhost:8080/"
        },
        "id": "aK_aQ_Wz6iAQ",
        "outputId": "e12e5ddb-3388-4123-845b-78bce06ceee6"
      },
      "source": [
        "d.get('b')"
      ],
      "execution_count": 7,
      "outputs": [
        {
          "output_type": "execute_result",
          "data": {
            "text/plain": [
              "2"
            ]
          },
          "metadata": {},
          "execution_count": 7
        }
      ]
    },
    {
      "cell_type": "code",
      "metadata": {
        "id": "JvKPysOD6j5P"
      },
      "source": [
        "result = d.get('oops')"
      ],
      "execution_count": 8,
      "outputs": []
    },
    {
      "cell_type": "code",
      "metadata": {
        "colab": {
          "base_uri": "https://localhost:8080/"
        },
        "id": "IgxGCXzw6pij",
        "outputId": "97586897-9010-4646-dfca-34129ed36ec0"
      },
      "source": [
        "print(result)"
      ],
      "execution_count": 11,
      "outputs": [
        {
          "output_type": "stream",
          "name": "stdout",
          "text": [
            "None\n"
          ]
        }
      ]
    },
    {
      "cell_type": "code",
      "metadata": {
        "id": "oUACueWn6qqZ"
      },
      "source": [
        "text = 'surya from the united kingdom'"
      ],
      "execution_count": 12,
      "outputs": []
    },
    {
      "cell_type": "code",
      "metadata": {
        "colab": {
          "base_uri": "https://localhost:8080/"
        },
        "id": "QuLYpXjx7bWb",
        "outputId": "29b0bfd4-8230-47eb-e5c5-255ad2a2f1d2"
      },
      "source": [
        "counts = dict()\n",
        "for c in text:\n",
        "  counts[c] = counts.get(c,0) + 1\n",
        "print(counts)"
      ],
      "execution_count": 13,
      "outputs": [
        {
          "output_type": "stream",
          "name": "stdout",
          "text": [
            "{'s': 1, 'u': 2, 'r': 2, 'y': 1, 'a': 1, ' ': 4, 'f': 1, 'o': 2, 'm': 2, 't': 2, 'h': 1, 'e': 2, 'n': 2, 'i': 2, 'd': 2, 'k': 1, 'g': 1}\n"
          ]
        }
      ]
    },
    {
      "cell_type": "code",
      "metadata": {
        "colab": {
          "base_uri": "https://localhost:8080/"
        },
        "id": "_4FkZb9E7sL8",
        "outputId": "b14560c6-0c7e-42ed-af43-8654828ad9ce"
      },
      "source": [
        "counts = dict()\n",
        "for c in text:\n",
        "  key = c.lower().strip()\n",
        "  if key:\n",
        "    counts[key] = counts.get(c,0) + 1\n",
        "print(counts)"
      ],
      "execution_count": 15,
      "outputs": [
        {
          "output_type": "stream",
          "name": "stdout",
          "text": [
            "{'s': 1, 'u': 2, 'r': 2, 'y': 1, 'a': 1, 'f': 1, 'o': 2, 'm': 2, 't': 2, 'h': 1, 'e': 2, 'n': 2, 'i': 2, 'd': 2, 'k': 1, 'g': 1}\n"
          ]
        }
      ]
    },
    {
      "cell_type": "code",
      "metadata": {
        "id": "2CEKZhu97293"
      },
      "source": [
        "d = dict(a=1, b=2, c=3)"
      ],
      "execution_count": 16,
      "outputs": []
    },
    {
      "cell_type": "code",
      "metadata": {
        "colab": {
          "base_uri": "https://localhost:8080/"
        },
        "id": "V47dsKhb8QD2",
        "outputId": "82420c90-70db-4a27-a70f-3e1c0b8e93ab"
      },
      "source": [
        "'a' in d"
      ],
      "execution_count": 17,
      "outputs": [
        {
          "output_type": "execute_result",
          "data": {
            "text/plain": [
              "True"
            ]
          },
          "metadata": {},
          "execution_count": 17
        }
      ]
    },
    {
      "cell_type": "code",
      "metadata": {
        "colab": {
          "base_uri": "https://localhost:8080/"
        },
        "id": "OoTwJioU8SEf",
        "outputId": "46957038-3d37-4332-af8f-f9c4a7111f86"
      },
      "source": [
        "d.pop('a')"
      ],
      "execution_count": 19,
      "outputs": [
        {
          "output_type": "execute_result",
          "data": {
            "text/plain": [
              "1"
            ]
          },
          "metadata": {},
          "execution_count": 19
        }
      ]
    },
    {
      "cell_type": "code",
      "metadata": {
        "colab": {
          "base_uri": "https://localhost:8080/"
        },
        "id": "_ujNRLta8Y1h",
        "outputId": "d8b8c443-fadd-41a6-8af0-6f93b8db8634"
      },
      "source": [
        "d"
      ],
      "execution_count": 20,
      "outputs": [
        {
          "output_type": "execute_result",
          "data": {
            "text/plain": [
              "{'b': 2, 'c': 3}"
            ]
          },
          "metadata": {},
          "execution_count": 20
        }
      ]
    },
    {
      "cell_type": "code",
      "metadata": {
        "id": "pHOYM5XZ8d8r"
      },
      "source": [
        "d = dict({i: i**2 for i in range(2,8)})"
      ],
      "execution_count": 21,
      "outputs": []
    },
    {
      "cell_type": "code",
      "metadata": {
        "colab": {
          "base_uri": "https://localhost:8080/"
        },
        "id": "29zUa2Tp_135",
        "outputId": "002004e0-5d07-48da-e97f-32d047e3c994"
      },
      "source": [
        "d"
      ],
      "execution_count": 22,
      "outputs": [
        {
          "output_type": "execute_result",
          "data": {
            "text/plain": [
              "{2: 4, 3: 9, 4: 16, 5: 25, 6: 36, 7: 49}"
            ]
          },
          "metadata": {},
          "execution_count": 22
        }
      ]
    },
    {
      "cell_type": "code",
      "metadata": {
        "colab": {
          "base_uri": "https://localhost:8080/"
        },
        "id": "-eKDYHz7_2vY",
        "outputId": "bb2e2610-32db-464d-d2bd-9c5cebbe2b98"
      },
      "source": [
        "d.popitem()"
      ],
      "execution_count": 23,
      "outputs": [
        {
          "output_type": "execute_result",
          "data": {
            "text/plain": [
              "(7, 49)"
            ]
          },
          "metadata": {},
          "execution_count": 23
        }
      ]
    },
    {
      "cell_type": "code",
      "metadata": {
        "colab": {
          "base_uri": "https://localhost:8080/"
        },
        "id": "Wjqtap0k_8ep",
        "outputId": "7fb814a4-8595-4bec-d137-e17b012f32d4"
      },
      "source": [
        "d"
      ],
      "execution_count": 24,
      "outputs": [
        {
          "output_type": "execute_result",
          "data": {
            "text/plain": [
              "{2: 4, 3: 9, 4: 16, 5: 25, 6: 36}"
            ]
          },
          "metadata": {},
          "execution_count": 24
        }
      ]
    },
    {
      "cell_type": "code",
      "metadata": {
        "id": "nRWf9qOE_9HG"
      },
      "source": [
        "import string"
      ],
      "execution_count": 25,
      "outputs": []
    },
    {
      "cell_type": "code",
      "metadata": {
        "colab": {
          "base_uri": "https://localhost:8080/"
        },
        "id": "8NdHF0WUFEVk",
        "outputId": "fccc91cc-a692-4513-92ec-8c06f6db85fc"
      },
      "source": [
        "print(string.ascii_lowercase)"
      ],
      "execution_count": 27,
      "outputs": [
        {
          "output_type": "stream",
          "name": "stdout",
          "text": [
            "abcdefghijklmnopqrstuvwxyz\n"
          ]
        }
      ]
    },
    {
      "cell_type": "code",
      "metadata": {
        "colab": {
          "base_uri": "https://localhost:8080/"
        },
        "id": "VWm8QkCfFGuG",
        "outputId": "209c27a1-d4bb-46e2-dade-13f5e5a3a9f3"
      },
      "source": [
        "print(string.ascii_uppercase)"
      ],
      "execution_count": 28,
      "outputs": [
        {
          "output_type": "stream",
          "name": "stdout",
          "text": [
            "ABCDEFGHIJKLMNOPQRSTUVWXYZ\n"
          ]
        }
      ]
    },
    {
      "cell_type": "code",
      "metadata": {
        "id": "El3naht8FRqO"
      },
      "source": [
        "s1 = {1,2,3}\n",
        "s2 = {2,3,4}"
      ],
      "execution_count": 29,
      "outputs": []
    },
    {
      "cell_type": "code",
      "metadata": {
        "colab": {
          "base_uri": "https://localhost:8080/"
        },
        "id": "-SJfjxPKF0nh",
        "outputId": "fffd83f7-4d0a-4cad-f12a-77789b15636c"
      },
      "source": [
        "s1 | s2"
      ],
      "execution_count": 30,
      "outputs": [
        {
          "output_type": "execute_result",
          "data": {
            "text/plain": [
              "{1, 2, 3, 4}"
            ]
          },
          "metadata": {},
          "execution_count": 30
        }
      ]
    },
    {
      "cell_type": "code",
      "metadata": {
        "colab": {
          "base_uri": "https://localhost:8080/"
        },
        "id": "5GPA2uNuF4kc",
        "outputId": "10042013-3c03-47f9-ba32-d7c7c8edf4c8"
      },
      "source": [
        "s1 & s2"
      ],
      "execution_count": 31,
      "outputs": [
        {
          "output_type": "execute_result",
          "data": {
            "text/plain": [
              "{2, 3}"
            ]
          },
          "metadata": {},
          "execution_count": 31
        }
      ]
    },
    {
      "cell_type": "code",
      "metadata": {
        "colab": {
          "base_uri": "https://localhost:8080/"
        },
        "id": "QQu-RHkWF78c",
        "outputId": "ee94f10e-8764-4a2e-a001-0902b8e274e4"
      },
      "source": [
        "s1 - s2"
      ],
      "execution_count": 32,
      "outputs": [
        {
          "output_type": "execute_result",
          "data": {
            "text/plain": [
              "{1}"
            ]
          },
          "metadata": {},
          "execution_count": 32
        }
      ]
    },
    {
      "cell_type": "code",
      "metadata": {
        "colab": {
          "base_uri": "https://localhost:8080/"
        },
        "id": "Q5lRIjaxF9PR",
        "outputId": "88abe004-e436-43fa-ee7c-8e4e9475e6cc"
      },
      "source": [
        "s2 - s1"
      ],
      "execution_count": 33,
      "outputs": [
        {
          "output_type": "execute_result",
          "data": {
            "text/plain": [
              "{4}"
            ]
          },
          "metadata": {},
          "execution_count": 33
        }
      ]
    },
    {
      "cell_type": "code",
      "metadata": {
        "colab": {
          "base_uri": "https://localhost:8080/"
        },
        "id": "aYzisEVKGAQe",
        "outputId": "a387652f-fd80-483e-9872-9b753752e859"
      },
      "source": [
        "s2 | s1"
      ],
      "execution_count": 34,
      "outputs": [
        {
          "output_type": "execute_result",
          "data": {
            "text/plain": [
              "{1, 2, 3, 4}"
            ]
          },
          "metadata": {},
          "execution_count": 34
        }
      ]
    },
    {
      "cell_type": "code",
      "metadata": {
        "colab": {
          "base_uri": "https://localhost:8080/"
        },
        "id": "sV4HifiCGEps",
        "outputId": "05045cdd-564f-4a8f-afec-36ee5b08fb15"
      },
      "source": [
        "s2 & s1"
      ],
      "execution_count": 35,
      "outputs": [
        {
          "output_type": "execute_result",
          "data": {
            "text/plain": [
              "{2, 3}"
            ]
          },
          "metadata": {},
          "execution_count": 35
        }
      ]
    },
    {
      "cell_type": "code",
      "metadata": {
        "id": "nFXzh7L3GGXi"
      },
      "source": [
        "d1 = {'a':1,'b':2,'c':3}\n",
        "d2 = dict(zip('cde',[30,4,5]))"
      ],
      "execution_count": 36,
      "outputs": []
    },
    {
      "cell_type": "code",
      "metadata": {
        "colab": {
          "base_uri": "https://localhost:8080/"
        },
        "id": "ogvMzghTGZJv",
        "outputId": "e01f5e82-ccaf-4f92-8760-af17456cdfa1"
      },
      "source": [
        "d1"
      ],
      "execution_count": 37,
      "outputs": [
        {
          "output_type": "execute_result",
          "data": {
            "text/plain": [
              "{'a': 1, 'b': 2, 'c': 3}"
            ]
          },
          "metadata": {},
          "execution_count": 37
        }
      ]
    },
    {
      "cell_type": "code",
      "metadata": {
        "colab": {
          "base_uri": "https://localhost:8080/"
        },
        "id": "Pl1bwCTnGZ6k",
        "outputId": "db0eb221-f900-4605-eb37-7bb88a7e5e8d"
      },
      "source": [
        "d2"
      ],
      "execution_count": 38,
      "outputs": [
        {
          "output_type": "execute_result",
          "data": {
            "text/plain": [
              "{'c': 30, 'd': 4, 'e': 5}"
            ]
          },
          "metadata": {},
          "execution_count": 38
        }
      ]
    },
    {
      "cell_type": "code",
      "metadata": {
        "colab": {
          "base_uri": "https://localhost:8080/"
        },
        "id": "dJnIJZG_Gabv",
        "outputId": "211b6fbc-da3c-42a9-daa6-a855c77eec70"
      },
      "source": [
        "for key in d1:\n",
        "  print(key)"
      ],
      "execution_count": 39,
      "outputs": [
        {
          "output_type": "stream",
          "name": "stdout",
          "text": [
            "a\n",
            "b\n",
            "c\n"
          ]
        }
      ]
    },
    {
      "cell_type": "code",
      "metadata": {
        "colab": {
          "base_uri": "https://localhost:8080/"
        },
        "id": "OVCzjZTwGf38",
        "outputId": "1983bc5f-9fcf-41c4-d55d-6103263543ec"
      },
      "source": [
        "for key in d1.keys():\n",
        "  print(key)"
      ],
      "execution_count": 40,
      "outputs": [
        {
          "output_type": "stream",
          "name": "stdout",
          "text": [
            "a\n",
            "b\n",
            "c\n"
          ]
        }
      ]
    },
    {
      "cell_type": "code",
      "metadata": {
        "colab": {
          "base_uri": "https://localhost:8080/"
        },
        "id": "MoMPIynUGmzq",
        "outputId": "a8972cd4-c216-4986-bc45-cf67377ef2c4"
      },
      "source": [
        "for value in d1.values():\n",
        "  print(value)"
      ],
      "execution_count": 41,
      "outputs": [
        {
          "output_type": "stream",
          "name": "stdout",
          "text": [
            "1\n",
            "2\n",
            "3\n"
          ]
        }
      ]
    },
    {
      "cell_type": "code",
      "metadata": {
        "colab": {
          "base_uri": "https://localhost:8080/"
        },
        "id": "By3sH6tQGs10",
        "outputId": "be7cc7e5-5256-41f4-f428-88430b42d7a9"
      },
      "source": [
        "for value in d1.items():\n",
        "  print(value)"
      ],
      "execution_count": 42,
      "outputs": [
        {
          "output_type": "stream",
          "name": "stdout",
          "text": [
            "('a', 1)\n",
            "('b', 2)\n",
            "('c', 3)\n"
          ]
        }
      ]
    },
    {
      "cell_type": "code",
      "metadata": {
        "colab": {
          "base_uri": "https://localhost:8080/"
        },
        "id": "E1zWr1YRGxhC",
        "outputId": "42521172-3a8f-4265-d14c-99b71e7c20a4"
      },
      "source": [
        "for k,v in d1.items():\n",
        "  print(k,v)\n",
        "  "
      ],
      "execution_count": 43,
      "outputs": [
        {
          "output_type": "stream",
          "name": "stdout",
          "text": [
            "a 1\n",
            "b 2\n",
            "c 3\n"
          ]
        }
      ]
    },
    {
      "cell_type": "code",
      "metadata": {
        "id": "pJw6Emu6G6Qq"
      },
      "source": [
        "keys = d1.keys()"
      ],
      "execution_count": 44,
      "outputs": []
    },
    {
      "cell_type": "code",
      "metadata": {
        "colab": {
          "base_uri": "https://localhost:8080/"
        },
        "id": "WFvMJ5JRG-tq",
        "outputId": "90a5c3b6-2180-4e48-8082-e2ee010e1cc2"
      },
      "source": [
        "list(keys)"
      ],
      "execution_count": 45,
      "outputs": [
        {
          "output_type": "execute_result",
          "data": {
            "text/plain": [
              "['a', 'b', 'c']"
            ]
          },
          "metadata": {},
          "execution_count": 45
        }
      ]
    },
    {
      "cell_type": "code",
      "metadata": {
        "id": "BXosV8T2HAbg"
      },
      "source": [
        "d1['d'] = 0"
      ],
      "execution_count": 47,
      "outputs": []
    },
    {
      "cell_type": "code",
      "metadata": {
        "colab": {
          "base_uri": "https://localhost:8080/"
        },
        "id": "Fb2npSzZHF48",
        "outputId": "5417b3ba-d5c3-42b6-9364-3bbda0c71477"
      },
      "source": [
        "d1"
      ],
      "execution_count": 48,
      "outputs": [
        {
          "output_type": "execute_result",
          "data": {
            "text/plain": [
              "{'a': 1, 'b': 2, 'c': 3, 'd': 0}"
            ]
          },
          "metadata": {},
          "execution_count": 48
        }
      ]
    },
    {
      "cell_type": "code",
      "metadata": {
        "colab": {
          "base_uri": "https://localhost:8080/"
        },
        "id": "qE2fS2OMHJ7V",
        "outputId": "a2a353da-c4e9-41b4-f30b-f29ebe798377"
      },
      "source": [
        "d1.keys()"
      ],
      "execution_count": 51,
      "outputs": [
        {
          "output_type": "execute_result",
          "data": {
            "text/plain": [
              "dict_keys(['a', 'b', 'c', 'd'])"
            ]
          },
          "metadata": {},
          "execution_count": 51
        }
      ]
    },
    {
      "cell_type": "code",
      "metadata": {
        "colab": {
          "base_uri": "https://localhost:8080/"
        },
        "id": "6nmlMjNSHPR9",
        "outputId": "f06c48be-a81e-40a4-c82b-7d6a34e4a7af"
      },
      "source": [
        "d1.values()"
      ],
      "execution_count": 52,
      "outputs": [
        {
          "output_type": "execute_result",
          "data": {
            "text/plain": [
              "dict_values([1, 2, 3, 0])"
            ]
          },
          "metadata": {},
          "execution_count": 52
        }
      ]
    },
    {
      "cell_type": "code",
      "metadata": {
        "colab": {
          "base_uri": "https://localhost:8080/"
        },
        "id": "4vT9ZZc4HRKI",
        "outputId": "c5859e4b-1762-43fb-9ca7-f237fdc096f8"
      },
      "source": [
        "print(d1)\n",
        "print(d2)"
      ],
      "execution_count": 53,
      "outputs": [
        {
          "output_type": "stream",
          "name": "stdout",
          "text": [
            "{'a': 1, 'b': 2, 'c': 3, 'd': 0}\n",
            "{'c': 30, 'd': 4, 'e': 5}\n"
          ]
        }
      ]
    },
    {
      "cell_type": "code",
      "metadata": {
        "id": "diT0baUcHjSE"
      },
      "source": [
        "union = d1.keys() | d2.keys()\n"
      ],
      "execution_count": 56,
      "outputs": []
    },
    {
      "cell_type": "code",
      "metadata": {
        "colab": {
          "base_uri": "https://localhost:8080/"
        },
        "id": "K_pjhyfPHneT",
        "outputId": "2c793534-7c0b-4296-c62e-47d33faa72df"
      },
      "source": [
        "union"
      ],
      "execution_count": 57,
      "outputs": [
        {
          "output_type": "execute_result",
          "data": {
            "text/plain": [
              "{'a', 'b', 'c', 'd', 'e'}"
            ]
          },
          "metadata": {},
          "execution_count": 57
        }
      ]
    },
    {
      "cell_type": "code",
      "metadata": {
        "colab": {
          "base_uri": "https://localhost:8080/"
        },
        "id": "WLWG9O6hH5Ku",
        "outputId": "1f3003dc-20b9-4410-e550-34732014ea09"
      },
      "source": [
        "type(union)"
      ],
      "execution_count": 58,
      "outputs": [
        {
          "output_type": "execute_result",
          "data": {
            "text/plain": [
              "set"
            ]
          },
          "metadata": {},
          "execution_count": 58
        }
      ]
    },
    {
      "cell_type": "code",
      "metadata": {
        "colab": {
          "base_uri": "https://localhost:8080/"
        },
        "id": "0JkZG_qtH7UB",
        "outputId": "6e1c79b0-b281-486a-adbc-df97376c0570"
      },
      "source": [
        "list(union)"
      ],
      "execution_count": 59,
      "outputs": [
        {
          "output_type": "execute_result",
          "data": {
            "text/plain": [
              "['b', 'c', 'e', 'a', 'd']"
            ]
          },
          "metadata": {},
          "execution_count": 59
        }
      ]
    },
    {
      "cell_type": "code",
      "metadata": {
        "colab": {
          "base_uri": "https://localhost:8080/"
        },
        "id": "icx3MS6DIK5R",
        "outputId": "2172dd6f-24e9-4198-ea26-6da5c5404773"
      },
      "source": [
        "d1.keys() & d2.keys()"
      ],
      "execution_count": 60,
      "outputs": [
        {
          "output_type": "execute_result",
          "data": {
            "text/plain": [
              "{'c', 'd'}"
            ]
          },
          "metadata": {},
          "execution_count": 60
        }
      ]
    },
    {
      "cell_type": "code",
      "metadata": {
        "colab": {
          "base_uri": "https://localhost:8080/"
        },
        "id": "1KOp-o2vITKI",
        "outputId": "a0e0a988-ac84-4ce6-b6f7-bb9bae7e154b"
      },
      "source": [
        "d1.items() | d2.items()"
      ],
      "execution_count": 61,
      "outputs": [
        {
          "output_type": "execute_result",
          "data": {
            "text/plain": [
              "{('a', 1), ('b', 2), ('c', 3), ('c', 30), ('d', 0), ('d', 4), ('e', 5)}"
            ]
          },
          "metadata": {},
          "execution_count": 61
        }
      ]
    },
    {
      "cell_type": "code",
      "metadata": {
        "colab": {
          "base_uri": "https://localhost:8080/"
        },
        "id": "G-KPZIhfIcgC",
        "outputId": "6603fb54-ba2c-4386-e4e6-16fb20ce28bb"
      },
      "source": [
        "d1,d2"
      ],
      "execution_count": 62,
      "outputs": [
        {
          "output_type": "execute_result",
          "data": {
            "text/plain": [
              "({'a': 1, 'b': 2, 'c': 3, 'd': 0}, {'c': 30, 'd': 4, 'e': 5})"
            ]
          },
          "metadata": {},
          "execution_count": 62
        }
      ]
    },
    {
      "cell_type": "code",
      "metadata": {
        "id": "WQ9OrgQEIjKz"
      },
      "source": [
        "d2['c'] = 3"
      ],
      "execution_count": 63,
      "outputs": []
    },
    {
      "cell_type": "code",
      "metadata": {
        "colab": {
          "base_uri": "https://localhost:8080/"
        },
        "id": "2aVM_JwgImPQ",
        "outputId": "bdd83124-55ac-4eb3-ea16-1757e52aaf40"
      },
      "source": [
        "d1"
      ],
      "execution_count": 64,
      "outputs": [
        {
          "output_type": "execute_result",
          "data": {
            "text/plain": [
              "{'a': 1, 'b': 2, 'c': 3, 'd': 0}"
            ]
          },
          "metadata": {},
          "execution_count": 64
        }
      ]
    },
    {
      "cell_type": "code",
      "metadata": {
        "colab": {
          "base_uri": "https://localhost:8080/"
        },
        "id": "uLOZPLa3Im0o",
        "outputId": "c3c790a1-5873-4c0a-f415-224f711461bc"
      },
      "source": [
        "d2"
      ],
      "execution_count": 65,
      "outputs": [
        {
          "output_type": "execute_result",
          "data": {
            "text/plain": [
              "{'c': 3, 'd': 4, 'e': 5}"
            ]
          },
          "metadata": {},
          "execution_count": 65
        }
      ]
    },
    {
      "cell_type": "code",
      "metadata": {
        "colab": {
          "base_uri": "https://localhost:8080/"
        },
        "id": "bJMop7a2InTy",
        "outputId": "8f4bce1c-98a9-4a90-9ee7-ccef5ec71b64"
      },
      "source": [
        "d1.items() | d2.items()"
      ],
      "execution_count": 66,
      "outputs": [
        {
          "output_type": "execute_result",
          "data": {
            "text/plain": [
              "{('a', 1), ('b', 2), ('c', 3), ('d', 0), ('d', 4), ('e', 5)}"
            ]
          },
          "metadata": {},
          "execution_count": 66
        }
      ]
    },
    {
      "cell_type": "code",
      "metadata": {
        "colab": {
          "base_uri": "https://localhost:8080/"
        },
        "id": "hOzXixS2IqRM",
        "outputId": "31a8d64e-a243-4418-f436-15a2dcc5865e"
      },
      "source": [
        "d1.values(), d2.values()"
      ],
      "execution_count": 67,
      "outputs": [
        {
          "output_type": "execute_result",
          "data": {
            "text/plain": [
              "(dict_values([1, 2, 3, 0]), dict_values([3, 4, 5]))"
            ]
          },
          "metadata": {},
          "execution_count": 67
        }
      ]
    },
    {
      "cell_type": "code",
      "metadata": {
        "id": "AaPU-AY_JFDK"
      },
      "source": [
        "d3 = {'a': [1,2], 'b':[3,4]}\n",
        "d4 = {'c': [12,5], 'd':[20,5]}\n"
      ],
      "execution_count": 69,
      "outputs": []
    },
    {
      "cell_type": "code",
      "metadata": {
        "colab": {
          "base_uri": "https://localhost:8080/"
        },
        "id": "quRFMRhsJKXj",
        "outputId": "0eab29fb-3757-4656-b2ce-b98291452042"
      },
      "source": [
        "hash(('a',1))"
      ],
      "execution_count": 71,
      "outputs": [
        {
          "output_type": "execute_result",
          "data": {
            "text/plain": [
              "5619114404681851759"
            ]
          },
          "metadata": {},
          "execution_count": 71
        }
      ]
    },
    {
      "cell_type": "code",
      "metadata": {
        "id": "AsZ4bxW1Jbti"
      },
      "source": [
        "d1 = {'a':45,'b':78,'c':123}\n",
        "d2 = {'d':20,'e':70,'f':30}"
      ],
      "execution_count": 72,
      "outputs": []
    },
    {
      "cell_type": "code",
      "metadata": {
        "colab": {
          "base_uri": "https://localhost:8080/"
        },
        "id": "6qAdjQBgJ24L",
        "outputId": "84cbf3bf-16ee-4140-d82d-91c2f75deeae"
      },
      "source": [
        "k1 = d1.keys()\n",
        "k2 = d2.keys()\n",
        "k1 & k2"
      ],
      "execution_count": 73,
      "outputs": [
        {
          "output_type": "execute_result",
          "data": {
            "text/plain": [
              "set()"
            ]
          },
          "metadata": {},
          "execution_count": 73
        }
      ]
    },
    {
      "cell_type": "code",
      "metadata": {
        "colab": {
          "base_uri": "https://localhost:8080/"
        },
        "id": "3yzhnsS4J9ZX",
        "outputId": "33382774-6dfe-4f5f-9055-66cd4f26da82"
      },
      "source": [
        "k1"
      ],
      "execution_count": 74,
      "outputs": [
        {
          "output_type": "execute_result",
          "data": {
            "text/plain": [
              "dict_keys(['a', 'b', 'c'])"
            ]
          },
          "metadata": {},
          "execution_count": 74
        }
      ]
    },
    {
      "cell_type": "code",
      "metadata": {
        "colab": {
          "base_uri": "https://localhost:8080/"
        },
        "id": "ivJLVAlBJ-GE",
        "outputId": "27232af9-02e2-4391-9548-ae9673099d67"
      },
      "source": [
        "k2"
      ],
      "execution_count": 75,
      "outputs": [
        {
          "output_type": "execute_result",
          "data": {
            "text/plain": [
              "dict_keys(['d', 'e', 'f'])"
            ]
          },
          "metadata": {},
          "execution_count": 75
        }
      ]
    },
    {
      "cell_type": "code",
      "metadata": {
        "colab": {
          "base_uri": "https://localhost:8080/"
        },
        "id": "-lSDe6xtJ-go",
        "outputId": "ad8a6dd0-1331-48bf-ee90-982babf2d48f"
      },
      "source": [
        "new_dict = {}\n",
        "for key in d1.keys() & d2.keys():\n",
        "  new_dict[key] = d1[key], d2[key]\n",
        "print(new_dict)"
      ],
      "execution_count": 76,
      "outputs": [
        {
          "output_type": "stream",
          "name": "stdout",
          "text": [
            "{}\n"
          ]
        }
      ]
    },
    {
      "cell_type": "code",
      "metadata": {
        "id": "ABJdFp-oKPoy"
      },
      "source": [
        "d1 = {'a':2,'b':3,'c':8}\n",
        "d2 = {'b':6,'c':30,'d':15}"
      ],
      "execution_count": 78,
      "outputs": []
    },
    {
      "cell_type": "code",
      "metadata": {
        "colab": {
          "base_uri": "https://localhost:8080/"
        },
        "id": "7zVUlvjFKRdj",
        "outputId": "216c0d54-e840-47c0-d8ed-6adfbce1112e"
      },
      "source": [
        "new_dict = {}\n",
        "for key in d1.keys() & d2.keys():\n",
        "  new_dict[key] = d1[key], d2[key]\n",
        "print(new_dict)"
      ],
      "execution_count": 79,
      "outputs": [
        {
          "output_type": "stream",
          "name": "stdout",
          "text": [
            "{'c': (8, 30), 'b': (3, 6)}\n"
          ]
        }
      ]
    },
    {
      "cell_type": "code",
      "metadata": {
        "colab": {
          "base_uri": "https://localhost:8080/"
        },
        "id": "LHp9BjMkO-ue",
        "outputId": "8b25e131-b0b8-413b-f742-3b562837ba2e"
      },
      "source": [
        "d1"
      ],
      "execution_count": 80,
      "outputs": [
        {
          "output_type": "execute_result",
          "data": {
            "text/plain": [
              "{'a': 2, 'b': 3, 'c': 8}"
            ]
          },
          "metadata": {},
          "execution_count": 80
        }
      ]
    },
    {
      "cell_type": "code",
      "metadata": {
        "colab": {
          "base_uri": "https://localhost:8080/"
        },
        "id": "rujoA9cNPAF9",
        "outputId": "c33b6457-72c3-4305-92e2-f654552d0929"
      },
      "source": [
        "d2"
      ],
      "execution_count": 81,
      "outputs": [
        {
          "output_type": "execute_result",
          "data": {
            "text/plain": [
              "{'b': 6, 'c': 30, 'd': 15}"
            ]
          },
          "metadata": {},
          "execution_count": 81
        }
      ]
    },
    {
      "cell_type": "code",
      "metadata": {
        "id": "rfcjbvvYPAkY"
      },
      "source": [
        "union = d1.keys() | d2.keys()"
      ],
      "execution_count": 82,
      "outputs": []
    },
    {
      "cell_type": "code",
      "metadata": {
        "colab": {
          "base_uri": "https://localhost:8080/"
        },
        "id": "7OPohLa0PN1h",
        "outputId": "098d7502-3bb3-4dfd-ed4a-9c5034523735"
      },
      "source": [
        "union"
      ],
      "execution_count": 84,
      "outputs": [
        {
          "output_type": "execute_result",
          "data": {
            "text/plain": [
              "{'a', 'b', 'c', 'd'}"
            ]
          },
          "metadata": {},
          "execution_count": 84
        }
      ]
    },
    {
      "cell_type": "code",
      "metadata": {
        "id": "1ZbpoPHVPPD4"
      },
      "source": [
        "intersection = d1.keys() & d2.keys()"
      ],
      "execution_count": 86,
      "outputs": []
    },
    {
      "cell_type": "code",
      "metadata": {
        "colab": {
          "base_uri": "https://localhost:8080/"
        },
        "id": "lSZIM-QOPS-v",
        "outputId": "3b64f915-81cc-4ac9-ad8a-033ae66904c3"
      },
      "source": [
        "intersection"
      ],
      "execution_count": 87,
      "outputs": [
        {
          "output_type": "execute_result",
          "data": {
            "text/plain": [
              "{'b', 'c'}"
            ]
          },
          "metadata": {},
          "execution_count": 87
        }
      ]
    },
    {
      "cell_type": "code",
      "metadata": {
        "colab": {
          "base_uri": "https://localhost:8080/"
        },
        "id": "_KhW0FnmPZyE",
        "outputId": "d6f60ccc-aa49-46dc-ebe3-2e4d49413c3e"
      },
      "source": [
        "union - intersection"
      ],
      "execution_count": 88,
      "outputs": [
        {
          "output_type": "execute_result",
          "data": {
            "text/plain": [
              "{'a', 'd'}"
            ]
          },
          "metadata": {},
          "execution_count": 88
        }
      ]
    },
    {
      "cell_type": "code",
      "metadata": {
        "colab": {
          "base_uri": "https://localhost:8080/"
        },
        "id": "rEXvgd6KPbhn",
        "outputId": "4a1254bd-db18-451b-9455-b836baa775f9"
      },
      "source": [
        "intersection - union\n"
      ],
      "execution_count": 90,
      "outputs": [
        {
          "output_type": "execute_result",
          "data": {
            "text/plain": [
              "set()"
            ]
          },
          "metadata": {},
          "execution_count": 90
        }
      ]
    },
    {
      "cell_type": "code",
      "metadata": {
        "colab": {
          "base_uri": "https://localhost:8080/"
        },
        "id": "kcqalnf9PfIT",
        "outputId": "297dbfb3-97ce-4818-aeaa-925fe8af7066"
      },
      "source": [
        "d1.keys() ^ d2.keys()"
      ],
      "execution_count": 91,
      "outputs": [
        {
          "output_type": "execute_result",
          "data": {
            "text/plain": [
              "{'a', 'd'}"
            ]
          },
          "metadata": {},
          "execution_count": 91
        }
      ]
    },
    {
      "cell_type": "code",
      "metadata": {
        "colab": {
          "base_uri": "https://localhost:8080/"
        },
        "id": "zkyfNT1sPnLi",
        "outputId": "fb1384d0-a895-4638-bd08-a813e15752ab"
      },
      "source": [
        "d1.get('c')\n"
      ],
      "execution_count": 95,
      "outputs": [
        {
          "output_type": "execute_result",
          "data": {
            "text/plain": [
              "8"
            ]
          },
          "metadata": {},
          "execution_count": 95
        }
      ]
    },
    {
      "cell_type": "code",
      "metadata": {
        "colab": {
          "base_uri": "https://localhost:8080/"
        },
        "id": "-c2JMEGPPxHN",
        "outputId": "daaf1101-1b0a-4b98-92ee-906f810cde7a"
      },
      "source": [
        "d1"
      ],
      "execution_count": 94,
      "outputs": [
        {
          "output_type": "execute_result",
          "data": {
            "text/plain": [
              "{'a': 2, 'b': 3, 'c': 8}"
            ]
          },
          "metadata": {},
          "execution_count": 94
        }
      ]
    },
    {
      "cell_type": "code",
      "metadata": {
        "colab": {
          "base_uri": "https://localhost:8080/"
        },
        "id": "NI3aIGExPysR",
        "outputId": "1de204c3-6619-4f7b-debd-86b67f2ec555"
      },
      "source": [
        "d2"
      ],
      "execution_count": 96,
      "outputs": [
        {
          "output_type": "execute_result",
          "data": {
            "text/plain": [
              "{'b': 6, 'c': 30, 'd': 15}"
            ]
          },
          "metadata": {},
          "execution_count": 96
        }
      ]
    },
    {
      "cell_type": "code",
      "metadata": {
        "colab": {
          "base_uri": "https://localhost:8080/"
        },
        "id": "aHBCnPf6P5sv",
        "outputId": "eade06c4-c48b-42a4-a75d-4f0f3c5d2d8e"
      },
      "source": [
        "d1.get('d') or d2.get('b')"
      ],
      "execution_count": 97,
      "outputs": [
        {
          "output_type": "execute_result",
          "data": {
            "text/plain": [
              "6"
            ]
          },
          "metadata": {},
          "execution_count": 97
        }
      ]
    },
    {
      "cell_type": "code",
      "metadata": {
        "colab": {
          "base_uri": "https://localhost:8080/"
        },
        "id": "wYIZWLDjP_Ks",
        "outputId": "4098f06d-6007-449c-c108-8a9c2a2e358f"
      },
      "source": [
        "d1.get('b') or d2.get('b')"
      ],
      "execution_count": 98,
      "outputs": [
        {
          "output_type": "execute_result",
          "data": {
            "text/plain": [
              "3"
            ]
          },
          "metadata": {},
          "execution_count": 98
        }
      ]
    },
    {
      "cell_type": "code",
      "metadata": {
        "id": "grddWw8oQD_p"
      },
      "source": [
        ""
      ],
      "execution_count": null,
      "outputs": []
    }
  ]
}